{
  "nbformat": 4,
  "nbformat_minor": 0,
  "metadata": {
    "docusaurus": {
      "sidebar_position": 1,
      "title": "Getting Started with the LabSDK",
      "description": "Start writing features from your notebook in less than 5 minutes."
    },
    "colab": {
      "name": "Getting Started with the LabSDK",
      "provenance": [],
      "collapsed_sections": [],
      "include_colab_link": true
    },
    "kernelspec": {
      "name": "python3",
      "display_name": "Python 3"
    },
    "language_info": {
      "name": "python"
    }
  },
  "cells": [
    {
      "cell_type": "markdown",
      "metadata": {
        "id": "view-in-github",
        "colab_type": "text"
      },
      "source": [
        "<a href=\"https://colab.research.google.com/github/raptor-ml/docs/blob/master/docs/guides/getting-started-with-labsdk.ipynb\" target=\"_parent\"><img src=\"https://colab.research.google.com/assets/colab-badge.svg\" alt=\"Open In Colab\"/></a>"
      ]
    },
    {
      "cell_type": "markdown",
      "source": [
        "[↵ Back to the Docs](https://raptor.ml)\n",
        "\n",
        "<img src=\"https://raptor.ml/img/logo.svg\" height=\"200\" />\n",
        "\n",
        "# 🦖 LabSDK"
      ],
      "metadata": {
        "id": "BK8SRO9PQ5VS",
        "docusaurus_hide": true
      }
    },
    {
      "cell_type": "markdown",
      "source": [
        "Using the LabSDK, Data-scientists can build features(that can run on production) directly from the notebook while developing your model.\n",
        "\n",
        "When you're done, you can \"export\" the features as Kubernetes manifests, and deploy them like any other service in your cluster. This way, you can benefit from the \"serverless approach\", and **focus on the business-logic**, while Raptor is taking care of the production concerns."
      ],
      "metadata": {
        "id": "olN5NKbsQlKB"
      }
    },
    {
      "cell_type": "markdown",
      "source": [
        "## 🧐 Getting started\n",
        "In this quickstart tutorial, we'll build a model that predicts the probability of closing a deal.\n",
        "\n",
        "Our CRM allow us to track every email communication, and the history of previous deals for each customer. We'll use this data sources to predict whether the customer is ready for closure or not.\n",
        "\n",
        "To do that, we're going to build a few features from the data:\n",
        "1. `emails_10h` - the amount of email exchanges over the last 10 hours\n",
        "1. `deals_10h[sum]` - the sum of the deals of the last 10 hours\n",
        "1. `emails_deals` - the rate between the emails in the last 10 hours (`emails_10h`) and the avarage of the deals in the last 10 hours (`deals_10h[avg]`)"
      ],
      "metadata": {
        "id": "W8E2-YjxnEVt"
      }
    },
    {
      "cell_type": "markdown",
      "source": [
        "## ⚡️ Installing the SDK\n",
        "Yalla, let's go! In the following two blocks, we install the LabSDK and import it."
      ],
      "metadata": {
        "id": "ZwsP6pk7ibxZ"
      }
    },
    {
      "cell_type": "code",
      "source": [
        "!pip install raptor-labsdk -U --quiet\n",
        "import raptor\n",
        "from raptor.stub import *  #<-- this prevents the IDE/Notebookfrom detecting PyExp built-in as errors"
      ],
      "metadata": {
        "id": "a5eW89kWTdL5"
      },
      "execution_count": 1,
      "outputs": []
    },
    {
      "cell_type": "markdown",
      "source": [
        "## ✍️ Writing our first features\n",
        "Our first feature is calculating how many emails an account got over the last 10 hours.\n",
        "\n",
        "In the next section we'll \"replay\" our historical data on this function, but for now - we are only specifying that it uses the `emails` data-connector(which DevOps needs to configure for us on produciton)."
      ],
      "metadata": {
        "id": "p88hB-owwk3-"
      }
    },
    {
      "cell_type": "code",
      "source": [
        "@raptor.register(int, staleness='10h')\n",
        "@raptor.connector(\"emails\")  #<-- we are decorating our feature with our production data-connector! 😎 \n",
        "@raptor.aggr([raptor.AggrFn.Count], granularity='1m')\n",
        "def emails_10h(**req: RaptorRequest):\n",
        "    \"\"\"email over 10 hours\"\"\"\n",
        "    return 1"
      ],
      "metadata": {
        "id": "25sRcwoMwtR_"
      },
      "execution_count": 2,
      "outputs": []
    },
    {
      "cell_type": "markdown",
      "source": [
        "---\n",
        "> ## 😎 *Cool tip* \n",
        ">\n",
        "> Although it's looks like a regular python, it's not 😲\n",
        ">\n",
        "> The feature definition above is actually written in [PyExp](https://raptor.ml/docs/reference/pyexp), it's a dialect of Python and allow us to compile your code and run it production (in a safe and performant manner)\n",
        ">\n",
        "> [Learn more about PyExp »](https://raptor.ml/docs/reference/pyexp)"
      ],
      "metadata": {
        "id": "1DiPXWqULKB7"
      }
    },
    {
      "cell_type": "markdown",
      "source": [
        "Let's create another feature that calculates various aggregations against the deal amount.\n",
        "\n",
        "Notice that we're specified the `deals` data-connector here. In production, this data-connector will be used to retreive the \"real\" data."
      ],
      "metadata": {
        "id": "PC6AOb9RxMau"
      }
    },
    {
      "cell_type": "code",
      "source": [
        "@raptor.register(int, staleness='10h')\n",
        "@raptor.connector(\"deals\")\n",
        "@raptor.aggr([raptor.AggrFn.Sum, raptor.AggrFn.Avg, raptor.AggrFn.Max, raptor.AggrFn.Min], granularity='1m')\n",
        "def deals_10h(**req: RaptorRequest):\n",
        "    \"\"\"sum/avg/min/max of deal amount over 24 hours\"\"\"\n",
        "    return req['payload'][\"amount\"]"
      ],
      "metadata": {
        "id": "1xuZOPyayKHT"
      },
      "execution_count": 3,
      "outputs": []
    },
    {
      "cell_type": "markdown",
      "source": [
        "Now we can create a *derived feature* that defines the rate between these two features.\n",
        "\n",
        "**💡Hint:** Notice that when querying a feature with aggregation, we need to specify the feature with the aggregation feature we want in the brackets (using the FQN notation)."
      ],
      "metadata": {
        "id": "Q1IADRr1yiIR"
      }
    },
    {
      "cell_type": "code",
      "source": [
        "@raptor.register('headless', staleness='-1', freshness='-1')\n",
        "def emails_deals(**req: RaptorRequest):\n",
        "    \"\"\"emails/deal[avg] rate over 10 hours\"\"\"\n",
        "    e, _ = get_feature(\"emails_10h[count]\", req['entity_id'])\n",
        "    d, _ = get_feature(\"deals_10h[avg]\", req['entity_id'])\n",
        "    if e == None or d == None:\n",
        "        return None\n",
        "    return e / d"
      ],
      "metadata": {
        "id": "WOmMn2bxynMp"
      },
      "execution_count": 4,
      "outputs": []
    },
    {
      "cell_type": "markdown",
      "source": [
        "And finally, prepare it as a data set:"
      ],
      "metadata": {
        "id": "4-LRnIFmy_R4"
      }
    },
    {
      "cell_type": "code",
      "source": [
        "@raptor.feature_set(register=True)\n",
        "def deal_prediction():\n",
        "    return \"emails_10h[count]\", \"deals_10h[sum]\", emails_deals"
      ],
      "metadata": {
        "id": "Itd1J5fh_ZMn"
      },
      "execution_count": 5,
      "outputs": []
    },
    {
      "cell_type": "markdown",
      "source": [
        "## 💾 Historical Replay\n",
        "We can \"replay\" the historical records against our production-ready feature that we have written above for development purposes.\n",
        "\n",
        "The SDK will run this code locally and allow us to iterate on it quickly."
      ],
      "metadata": {
        "id": "4lFM-1yBp4Ei"
      }
    },
    {
      "cell_type": "code",
      "source": [
        "!pip install pandas pyarrow -U --quiet\n",
        "import pandas as pd"
      ],
      "metadata": {
        "id": "VrI92dBYNjzY"
      },
      "execution_count": 6,
      "outputs": []
    },
    {
      "cell_type": "code",
      "source": [
        "# first, calculate the \"root\" features\n",
        "df = pd.read_parquet(\"https://gist.github.com/AlmogBaku/a1b331615eaf1284432d2eecc5fe60bc/raw/emails.parquet\")\n",
        "emails_10h.replay(df, entity_id_field=\"account_id\")\n",
        "\n",
        "df = pd.read_csv(\"https://gist.githubusercontent.com/AlmogBaku/a1b331615eaf1284432d2eecc5fe60bc/raw/deals.csv\")\n",
        "deals_10h.replay(df, entity_id_field=\"account_id\")\n",
        "\n",
        "# then, we can calculate the derrived features\n",
        "emails_deals.replay(df, entity_id_field=\"account_id\")"
      ],
      "metadata": {
        "id": "zFh3rXFgNpo_",
        "colab": {
          "base_uri": "https://localhost:8080/",
          "height": 49
        },
        "outputId": "6998e3fd-5eb6-49f3-f2e9-0e162d3c5a55"
      },
      "execution_count": 7,
      "outputs": [
        {
          "output_type": "execute_result",
          "data": {
            "text/plain": [
              "Empty DataFrame\n",
              "Columns: [timestamp, entity_id, fqn, value]\n",
              "Index: []"
            ],
            "text/html": [
              "\n",
              "  <div id=\"df-4009f6c0-6283-44dd-812b-5493c9d34f73\">\n",
              "    <div class=\"colab-df-container\">\n",
              "      <div>\n",
              "<style scoped>\n",
              "    .dataframe tbody tr th:only-of-type {\n",
              "        vertical-align: middle;\n",
              "    }\n",
              "\n",
              "    .dataframe tbody tr th {\n",
              "        vertical-align: top;\n",
              "    }\n",
              "\n",
              "    .dataframe thead th {\n",
              "        text-align: right;\n",
              "    }\n",
              "</style>\n",
              "<table border=\"1\" class=\"dataframe\">\n",
              "  <thead>\n",
              "    <tr style=\"text-align: right;\">\n",
              "      <th></th>\n",
              "      <th>timestamp</th>\n",
              "      <th>entity_id</th>\n",
              "      <th>fqn</th>\n",
              "      <th>value</th>\n",
              "    </tr>\n",
              "  </thead>\n",
              "  <tbody>\n",
              "  </tbody>\n",
              "</table>\n",
              "</div>\n",
              "      <button class=\"colab-df-convert\" onclick=\"convertToInteractive('df-4009f6c0-6283-44dd-812b-5493c9d34f73')\"\n",
              "              title=\"Convert this dataframe to an interactive table.\"\n",
              "              style=\"display:none;\">\n",
              "        \n",
              "  <svg xmlns=\"http://www.w3.org/2000/svg\" height=\"24px\"viewBox=\"0 0 24 24\"\n",
              "       width=\"24px\">\n",
              "    <path d=\"M0 0h24v24H0V0z\" fill=\"none\"/>\n",
              "    <path d=\"M18.56 5.44l.94 2.06.94-2.06 2.06-.94-2.06-.94-.94-2.06-.94 2.06-2.06.94zm-11 1L8.5 8.5l.94-2.06 2.06-.94-2.06-.94L8.5 2.5l-.94 2.06-2.06.94zm10 10l.94 2.06.94-2.06 2.06-.94-2.06-.94-.94-2.06-.94 2.06-2.06.94z\"/><path d=\"M17.41 7.96l-1.37-1.37c-.4-.4-.92-.59-1.43-.59-.52 0-1.04.2-1.43.59L10.3 9.45l-7.72 7.72c-.78.78-.78 2.05 0 2.83L4 21.41c.39.39.9.59 1.41.59.51 0 1.02-.2 1.41-.59l7.78-7.78 2.81-2.81c.8-.78.8-2.07 0-2.86zM5.41 20L4 18.59l7.72-7.72 1.47 1.35L5.41 20z\"/>\n",
              "  </svg>\n",
              "      </button>\n",
              "      \n",
              "  <style>\n",
              "    .colab-df-container {\n",
              "      display:flex;\n",
              "      flex-wrap:wrap;\n",
              "      gap: 12px;\n",
              "    }\n",
              "\n",
              "    .colab-df-convert {\n",
              "      background-color: #E8F0FE;\n",
              "      border: none;\n",
              "      border-radius: 50%;\n",
              "      cursor: pointer;\n",
              "      display: none;\n",
              "      fill: #1967D2;\n",
              "      height: 32px;\n",
              "      padding: 0 0 0 0;\n",
              "      width: 32px;\n",
              "    }\n",
              "\n",
              "    .colab-df-convert:hover {\n",
              "      background-color: #E2EBFA;\n",
              "      box-shadow: 0px 1px 2px rgba(60, 64, 67, 0.3), 0px 1px 3px 1px rgba(60, 64, 67, 0.15);\n",
              "      fill: #174EA6;\n",
              "    }\n",
              "\n",
              "    [theme=dark] .colab-df-convert {\n",
              "      background-color: #3B4455;\n",
              "      fill: #D2E3FC;\n",
              "    }\n",
              "\n",
              "    [theme=dark] .colab-df-convert:hover {\n",
              "      background-color: #434B5C;\n",
              "      box-shadow: 0px 1px 3px 1px rgba(0, 0, 0, 0.15);\n",
              "      filter: drop-shadow(0px 1px 2px rgba(0, 0, 0, 0.3));\n",
              "      fill: #FFFFFF;\n",
              "    }\n",
              "  </style>\n",
              "\n",
              "      <script>\n",
              "        const buttonEl =\n",
              "          document.querySelector('#df-4009f6c0-6283-44dd-812b-5493c9d34f73 button.colab-df-convert');\n",
              "        buttonEl.style.display =\n",
              "          google.colab.kernel.accessAllowed ? 'block' : 'none';\n",
              "\n",
              "        async function convertToInteractive(key) {\n",
              "          const element = document.querySelector('#df-4009f6c0-6283-44dd-812b-5493c9d34f73');\n",
              "          const dataTable =\n",
              "            await google.colab.kernel.invokeFunction('convertToInteractive',\n",
              "                                                     [key], {});\n",
              "          if (!dataTable) return;\n",
              "\n",
              "          const docLinkHtml = 'Like what you see? Visit the ' +\n",
              "            '<a target=\"_blank\" href=https://colab.research.google.com/notebooks/data_table.ipynb>data table notebook</a>'\n",
              "            + ' to learn more about interactive tables.';\n",
              "          element.innerHTML = '';\n",
              "          dataTable['output_type'] = 'display_data';\n",
              "          await google.colab.output.renderOutput(dataTable, element);\n",
              "          const docLink = document.createElement('div');\n",
              "          docLink.innerHTML = docLinkHtml;\n",
              "          element.appendChild(docLink);\n",
              "        }\n",
              "      </script>\n",
              "    </div>\n",
              "  </div>\n",
              "  "
            ]
          },
          "metadata": {},
          "execution_count": 7
        }
      ]
    },
    {
      "cell_type": "markdown",
      "source": [
        "---\n",
        "> ℹ️ **Looking to run Replay at *scale*?** try [Raptor Enterprise](mailto:contact@raptor.ml) 🦖\n"
      ],
      "metadata": {
        "id": "YF2a7geoPttP"
      }
    },
    {
      "cell_type": "markdown",
      "source": [
        "## 🧠 Building our model\n",
        "To use our set in for our model, we need to query it:"
      ],
      "metadata": {
        "id": "Lpfe-PHWqAVY"
      }
    },
    {
      "cell_type": "code",
      "source": [
        "df = deal_prediction.historical_get(since='2020-1-1', until='2022-12-31')\n",
        "df\n",
        "# model.fit(df)"
      ],
      "metadata": {
        "id": "tNeaKZGMErJ4",
        "colab": {
          "base_uri": "https://localhost:8080/",
          "height": 739
        },
        "outputId": "df56130f-f35c-47d2-af85-0006b28b2514"
      },
      "execution_count": 8,
      "outputs": [
        {
          "output_type": "execute_result",
          "data": {
            "text/plain": [
              "                   timestamp entity_id  emails_10h.default[count]  \\\n",
              "0  2022-01-01 12:00:00+00:00      msft                        1.0   \n",
              "1  2022-01-01 12:00:00+00:00     tesla                        1.0   \n",
              "2  2022-01-01 12:20:00+00:00     tesla                        2.0   \n",
              "3  2022-01-01 13:10:00+00:00      msft                        2.0   \n",
              "4  2022-01-01 13:20:00+00:00      msft                        3.0   \n",
              "5  2022-01-01 13:40:00+00:00     tesla                        3.0   \n",
              "6  2022-01-01 14:00:00+00:00      msft                        4.0   \n",
              "7  2022-01-01 14:10:00+00:00      msft                        5.0   \n",
              "8  2022-01-01 14:20:00+00:00      msft                        6.0   \n",
              "9  2022-01-01 14:30:00+00:00      msft                        7.0   \n",
              "10 2022-01-01 14:40:00+00:00      msft                        8.0   \n",
              "11 2022-01-01 15:00:00+00:00     tesla                        4.0   \n",
              "12 2022-01-01 15:10:00+00:00     tesla                        5.0   \n",
              "13 2022-01-01 15:20:00+00:00     tesla                        6.0   \n",
              "14 2022-01-01 15:30:00+00:00      msft                        9.0   \n",
              "15 2022-01-01 15:30:00+00:00     tesla                        7.0   \n",
              "16 2022-01-01 15:40:00+00:00     tesla                        8.0   \n",
              "17 2022-01-01 15:50:00+00:00     tesla                        9.0   \n",
              "18 2022-01-01 16:00:00+00:00     tesla                       10.0   \n",
              "19 2022-01-01 16:10:00+00:00     tesla                       11.0   \n",
              "20 2022-01-01 16:20:00+00:00     tesla                       12.0   \n",
              "21 2022-01-01 16:30:00+00:00     tesla                       13.0   \n",
              "\n",
              "    deals_10h.default[sum]  emails_deals.default  \n",
              "0                    458.0              0.002183  \n",
              "1                   8837.0              0.000113  \n",
              "2                 103502.0              0.000039  \n",
              "3                   1727.0              0.002316  \n",
              "4                   3063.0              0.002938  \n",
              "5                 109966.0              0.000082  \n",
              "6                   7599.0              0.002106  \n",
              "7                  14583.0              0.001714  \n",
              "8                  23132.0              0.001556  \n",
              "9                  27775.0              0.001764  \n",
              "10                 32331.0              0.001980  \n",
              "11                115611.0              0.000138  \n",
              "12                160946.0              0.000155  \n",
              "13                164409.0              0.000219  \n",
              "14                 36495.0              0.002219  \n",
              "15                169057.0              0.000290  \n",
              "16                223253.0              0.000287  \n",
              "17                264894.0              0.000306  \n",
              "18                265914.0              0.000376  \n",
              "19                266914.0              0.000453  \n",
              "20                271784.0              0.000530  \n",
              "21                271784.0              0.000530  "
            ],
            "text/html": [
              "\n",
              "  <div id=\"df-d00a7213-cdf4-482c-a004-4a229c9b97de\">\n",
              "    <div class=\"colab-df-container\">\n",
              "      <div>\n",
              "<style scoped>\n",
              "    .dataframe tbody tr th:only-of-type {\n",
              "        vertical-align: middle;\n",
              "    }\n",
              "\n",
              "    .dataframe tbody tr th {\n",
              "        vertical-align: top;\n",
              "    }\n",
              "\n",
              "    .dataframe thead th {\n",
              "        text-align: right;\n",
              "    }\n",
              "</style>\n",
              "<table border=\"1\" class=\"dataframe\">\n",
              "  <thead>\n",
              "    <tr style=\"text-align: right;\">\n",
              "      <th></th>\n",
              "      <th>timestamp</th>\n",
              "      <th>entity_id</th>\n",
              "      <th>emails_10h.default[count]</th>\n",
              "      <th>deals_10h.default[sum]</th>\n",
              "      <th>emails_deals.default</th>\n",
              "    </tr>\n",
              "  </thead>\n",
              "  <tbody>\n",
              "    <tr>\n",
              "      <th>0</th>\n",
              "      <td>2022-01-01 12:00:00+00:00</td>\n",
              "      <td>msft</td>\n",
              "      <td>1.0</td>\n",
              "      <td>458.0</td>\n",
              "      <td>0.002183</td>\n",
              "    </tr>\n",
              "    <tr>\n",
              "      <th>1</th>\n",
              "      <td>2022-01-01 12:00:00+00:00</td>\n",
              "      <td>tesla</td>\n",
              "      <td>1.0</td>\n",
              "      <td>8837.0</td>\n",
              "      <td>0.000113</td>\n",
              "    </tr>\n",
              "    <tr>\n",
              "      <th>2</th>\n",
              "      <td>2022-01-01 12:20:00+00:00</td>\n",
              "      <td>tesla</td>\n",
              "      <td>2.0</td>\n",
              "      <td>103502.0</td>\n",
              "      <td>0.000039</td>\n",
              "    </tr>\n",
              "    <tr>\n",
              "      <th>3</th>\n",
              "      <td>2022-01-01 13:10:00+00:00</td>\n",
              "      <td>msft</td>\n",
              "      <td>2.0</td>\n",
              "      <td>1727.0</td>\n",
              "      <td>0.002316</td>\n",
              "    </tr>\n",
              "    <tr>\n",
              "      <th>4</th>\n",
              "      <td>2022-01-01 13:20:00+00:00</td>\n",
              "      <td>msft</td>\n",
              "      <td>3.0</td>\n",
              "      <td>3063.0</td>\n",
              "      <td>0.002938</td>\n",
              "    </tr>\n",
              "    <tr>\n",
              "      <th>5</th>\n",
              "      <td>2022-01-01 13:40:00+00:00</td>\n",
              "      <td>tesla</td>\n",
              "      <td>3.0</td>\n",
              "      <td>109966.0</td>\n",
              "      <td>0.000082</td>\n",
              "    </tr>\n",
              "    <tr>\n",
              "      <th>6</th>\n",
              "      <td>2022-01-01 14:00:00+00:00</td>\n",
              "      <td>msft</td>\n",
              "      <td>4.0</td>\n",
              "      <td>7599.0</td>\n",
              "      <td>0.002106</td>\n",
              "    </tr>\n",
              "    <tr>\n",
              "      <th>7</th>\n",
              "      <td>2022-01-01 14:10:00+00:00</td>\n",
              "      <td>msft</td>\n",
              "      <td>5.0</td>\n",
              "      <td>14583.0</td>\n",
              "      <td>0.001714</td>\n",
              "    </tr>\n",
              "    <tr>\n",
              "      <th>8</th>\n",
              "      <td>2022-01-01 14:20:00+00:00</td>\n",
              "      <td>msft</td>\n",
              "      <td>6.0</td>\n",
              "      <td>23132.0</td>\n",
              "      <td>0.001556</td>\n",
              "    </tr>\n",
              "    <tr>\n",
              "      <th>9</th>\n",
              "      <td>2022-01-01 14:30:00+00:00</td>\n",
              "      <td>msft</td>\n",
              "      <td>7.0</td>\n",
              "      <td>27775.0</td>\n",
              "      <td>0.001764</td>\n",
              "    </tr>\n",
              "    <tr>\n",
              "      <th>10</th>\n",
              "      <td>2022-01-01 14:40:00+00:00</td>\n",
              "      <td>msft</td>\n",
              "      <td>8.0</td>\n",
              "      <td>32331.0</td>\n",
              "      <td>0.001980</td>\n",
              "    </tr>\n",
              "    <tr>\n",
              "      <th>11</th>\n",
              "      <td>2022-01-01 15:00:00+00:00</td>\n",
              "      <td>tesla</td>\n",
              "      <td>4.0</td>\n",
              "      <td>115611.0</td>\n",
              "      <td>0.000138</td>\n",
              "    </tr>\n",
              "    <tr>\n",
              "      <th>12</th>\n",
              "      <td>2022-01-01 15:10:00+00:00</td>\n",
              "      <td>tesla</td>\n",
              "      <td>5.0</td>\n",
              "      <td>160946.0</td>\n",
              "      <td>0.000155</td>\n",
              "    </tr>\n",
              "    <tr>\n",
              "      <th>13</th>\n",
              "      <td>2022-01-01 15:20:00+00:00</td>\n",
              "      <td>tesla</td>\n",
              "      <td>6.0</td>\n",
              "      <td>164409.0</td>\n",
              "      <td>0.000219</td>\n",
              "    </tr>\n",
              "    <tr>\n",
              "      <th>14</th>\n",
              "      <td>2022-01-01 15:30:00+00:00</td>\n",
              "      <td>msft</td>\n",
              "      <td>9.0</td>\n",
              "      <td>36495.0</td>\n",
              "      <td>0.002219</td>\n",
              "    </tr>\n",
              "    <tr>\n",
              "      <th>15</th>\n",
              "      <td>2022-01-01 15:30:00+00:00</td>\n",
              "      <td>tesla</td>\n",
              "      <td>7.0</td>\n",
              "      <td>169057.0</td>\n",
              "      <td>0.000290</td>\n",
              "    </tr>\n",
              "    <tr>\n",
              "      <th>16</th>\n",
              "      <td>2022-01-01 15:40:00+00:00</td>\n",
              "      <td>tesla</td>\n",
              "      <td>8.0</td>\n",
              "      <td>223253.0</td>\n",
              "      <td>0.000287</td>\n",
              "    </tr>\n",
              "    <tr>\n",
              "      <th>17</th>\n",
              "      <td>2022-01-01 15:50:00+00:00</td>\n",
              "      <td>tesla</td>\n",
              "      <td>9.0</td>\n",
              "      <td>264894.0</td>\n",
              "      <td>0.000306</td>\n",
              "    </tr>\n",
              "    <tr>\n",
              "      <th>18</th>\n",
              "      <td>2022-01-01 16:00:00+00:00</td>\n",
              "      <td>tesla</td>\n",
              "      <td>10.0</td>\n",
              "      <td>265914.0</td>\n",
              "      <td>0.000376</td>\n",
              "    </tr>\n",
              "    <tr>\n",
              "      <th>19</th>\n",
              "      <td>2022-01-01 16:10:00+00:00</td>\n",
              "      <td>tesla</td>\n",
              "      <td>11.0</td>\n",
              "      <td>266914.0</td>\n",
              "      <td>0.000453</td>\n",
              "    </tr>\n",
              "    <tr>\n",
              "      <th>20</th>\n",
              "      <td>2022-01-01 16:20:00+00:00</td>\n",
              "      <td>tesla</td>\n",
              "      <td>12.0</td>\n",
              "      <td>271784.0</td>\n",
              "      <td>0.000530</td>\n",
              "    </tr>\n",
              "    <tr>\n",
              "      <th>21</th>\n",
              "      <td>2022-01-01 16:30:00+00:00</td>\n",
              "      <td>tesla</td>\n",
              "      <td>13.0</td>\n",
              "      <td>271784.0</td>\n",
              "      <td>0.000530</td>\n",
              "    </tr>\n",
              "  </tbody>\n",
              "</table>\n",
              "</div>\n",
              "      <button class=\"colab-df-convert\" onclick=\"convertToInteractive('df-d00a7213-cdf4-482c-a004-4a229c9b97de')\"\n",
              "              title=\"Convert this dataframe to an interactive table.\"\n",
              "              style=\"display:none;\">\n",
              "        \n",
              "  <svg xmlns=\"http://www.w3.org/2000/svg\" height=\"24px\"viewBox=\"0 0 24 24\"\n",
              "       width=\"24px\">\n",
              "    <path d=\"M0 0h24v24H0V0z\" fill=\"none\"/>\n",
              "    <path d=\"M18.56 5.44l.94 2.06.94-2.06 2.06-.94-2.06-.94-.94-2.06-.94 2.06-2.06.94zm-11 1L8.5 8.5l.94-2.06 2.06-.94-2.06-.94L8.5 2.5l-.94 2.06-2.06.94zm10 10l.94 2.06.94-2.06 2.06-.94-2.06-.94-.94-2.06-.94 2.06-2.06.94z\"/><path d=\"M17.41 7.96l-1.37-1.37c-.4-.4-.92-.59-1.43-.59-.52 0-1.04.2-1.43.59L10.3 9.45l-7.72 7.72c-.78.78-.78 2.05 0 2.83L4 21.41c.39.39.9.59 1.41.59.51 0 1.02-.2 1.41-.59l7.78-7.78 2.81-2.81c.8-.78.8-2.07 0-2.86zM5.41 20L4 18.59l7.72-7.72 1.47 1.35L5.41 20z\"/>\n",
              "  </svg>\n",
              "      </button>\n",
              "      \n",
              "  <style>\n",
              "    .colab-df-container {\n",
              "      display:flex;\n",
              "      flex-wrap:wrap;\n",
              "      gap: 12px;\n",
              "    }\n",
              "\n",
              "    .colab-df-convert {\n",
              "      background-color: #E8F0FE;\n",
              "      border: none;\n",
              "      border-radius: 50%;\n",
              "      cursor: pointer;\n",
              "      display: none;\n",
              "      fill: #1967D2;\n",
              "      height: 32px;\n",
              "      padding: 0 0 0 0;\n",
              "      width: 32px;\n",
              "    }\n",
              "\n",
              "    .colab-df-convert:hover {\n",
              "      background-color: #E2EBFA;\n",
              "      box-shadow: 0px 1px 2px rgba(60, 64, 67, 0.3), 0px 1px 3px 1px rgba(60, 64, 67, 0.15);\n",
              "      fill: #174EA6;\n",
              "    }\n",
              "\n",
              "    [theme=dark] .colab-df-convert {\n",
              "      background-color: #3B4455;\n",
              "      fill: #D2E3FC;\n",
              "    }\n",
              "\n",
              "    [theme=dark] .colab-df-convert:hover {\n",
              "      background-color: #434B5C;\n",
              "      box-shadow: 0px 1px 3px 1px rgba(0, 0, 0, 0.15);\n",
              "      filter: drop-shadow(0px 1px 2px rgba(0, 0, 0, 0.3));\n",
              "      fill: #FFFFFF;\n",
              "    }\n",
              "  </style>\n",
              "\n",
              "      <script>\n",
              "        const buttonEl =\n",
              "          document.querySelector('#df-d00a7213-cdf4-482c-a004-4a229c9b97de button.colab-df-convert');\n",
              "        buttonEl.style.display =\n",
              "          google.colab.kernel.accessAllowed ? 'block' : 'none';\n",
              "\n",
              "        async function convertToInteractive(key) {\n",
              "          const element = document.querySelector('#df-d00a7213-cdf4-482c-a004-4a229c9b97de');\n",
              "          const dataTable =\n",
              "            await google.colab.kernel.invokeFunction('convertToInteractive',\n",
              "                                                     [key], {});\n",
              "          if (!dataTable) return;\n",
              "\n",
              "          const docLinkHtml = 'Like what you see? Visit the ' +\n",
              "            '<a target=\"_blank\" href=https://colab.research.google.com/notebooks/data_table.ipynb>data table notebook</a>'\n",
              "            + ' to learn more about interactive tables.';\n",
              "          element.innerHTML = '';\n",
              "          dataTable['output_type'] = 'display_data';\n",
              "          await google.colab.output.renderOutput(dataTable, element);\n",
              "          const docLink = document.createElement('div');\n",
              "          docLink.innerHTML = docLinkHtml;\n",
              "          element.appendChild(docLink);\n",
              "        }\n",
              "      </script>\n",
              "    </div>\n",
              "  </div>\n",
              "  "
            ]
          },
          "metadata": {},
          "execution_count": 8
        }
      ]
    },
    {
      "cell_type": "markdown",
      "source": [
        "## ☁️ Deployment\n",
        "That's the fun part! 🤗 Making our features run at scale in production couldn't be easier.\n",
        "\n",
        "We only need to deploy our feature definitions to the Raptor Platform.\n",
        "You can do that with a preferred CI/CD of your choice, manually via `kubectl` or directly from your Jupyter Notebook(but that's not recommended for real-production environments 🤪)"
      ],
      "metadata": {
        "id": "GO99n3tCpC2y"
      }
    },
    {
      "cell_type": "markdown",
      "source": [
        "### Manifest deployment (only use this for production)\n",
        "We *copy-and-paste* the generated manifests to git, and use the organization's preferred method for deploying Kubernetes manifests (i.e. gitops, jenkins, kustomize, helm, etc.)"
      ],
      "metadata": {
        "id": "JEjarPdipF2U"
      }
    },
    {
      "cell_type": "code",
      "source": [
        "raptor.manifests(print_manifests=True)"
      ],
      "metadata": {
        "id": "np9e9uzV_5FI",
        "outputId": "d932bde3-f752-4251-819e-ac75fadc482c",
        "colab": {
          "base_uri": "https://localhost:8080/"
        }
      },
      "execution_count": 9,
      "outputs": [
        {
          "output_type": "stream",
          "name": "stdout",
          "text": [
            "apiVersion: k8s.raptor.ml/v1alpha1\n",
            "kind: Feature\n",
            "metadata:\n",
            "  name: emails-10h\n",
            "  annotations:\n",
            "    a8r.io/description: email over 10 hours\n",
            "spec:\n",
            "  primitive: int\n",
            "  freshness: 1m\n",
            "  staleness: 10h\n",
            "  connector:\n",
            "    name: emails\n",
            "  builder:\n",
            "    aggr:\n",
            "    - 'count'\n",
            "    aggr_granularity: 1m\n",
            "    pyexp: |-\n",
            "      def emails_10h(**req):\n",
            "          'email over 10 hours'\n",
            "          return 1\n",
            "---\n",
            "apiVersion: k8s.raptor.ml/v1alpha1\n",
            "kind: Feature\n",
            "metadata:\n",
            "  name: deals-10h\n",
            "  annotations:\n",
            "    a8r.io/description: sum/avg/min/max of deal amount over 24 hours\n",
            "spec:\n",
            "  primitive: int\n",
            "  freshness: 1m\n",
            "  staleness: 10h\n",
            "  connector:\n",
            "    name: deals\n",
            "  builder:\n",
            "    aggr:\n",
            "    - 'sum'\n",
            "    - 'avg'\n",
            "    - 'max'\n",
            "    - 'min'\n",
            "    aggr_granularity: 1m\n",
            "    pyexp: |-\n",
            "      def deals_10h(**req):\n",
            "          'sum/avg/min/max of deal amount over 24 hours'\n",
            "          return req['payload']['amount']\n",
            "---\n",
            "apiVersion: k8s.raptor.ml/v1alpha1\n",
            "kind: Feature\n",
            "metadata:\n",
            "  name: emails-deals\n",
            "  annotations:\n",
            "    a8r.io/description: emails/deal[avg] rate over 10 hours\n",
            "spec:\n",
            "  primitive: headless\n",
            "  freshness: '0'\n",
            "  staleness: '0'\n",
            "  builder:\n",
            "    aggr:\n",
            "    - 'sum'\n",
            "    - 'avg'\n",
            "    - 'max'\n",
            "    - 'min'\n",
            "    aggr_granularity: 1m\n",
            "    pyexp: |-\n",
            "      def emails_deals(**req):\n",
            "          'emails/deal[avg] rate over 10 hours'\n",
            "          (e, _) = get_feature('emails_10h[count]', req['entity_id'])\n",
            "          (d, _) = get_feature('deals_10h[avg]', req['entity_id'])\n",
            "          if ((e == None) or (d == None)):\n",
            "              return None\n",
            "          return (e / d)\n",
            "---\n",
            "apiVersion: k8s.raptor.ml/v1alpha1\n",
            "kind: FeatureSet\n",
            "metadata:\n",
            "  name: deal-prediction\n",
            "spec:\n",
            "  timeout: 5s\n",
            "  features:\n",
            "  - deals_10h.default[sum]\n",
            "  - emails_deals.default\n",
            "\n"
          ]
        }
      ]
    },
    {
      "cell_type": "markdown",
      "source": [
        "### Direct deployment (for local development)\n",
        "Alternatively, we can just deploy it on our own directly from python:\n",
        "\n",
        "1. Make sure you've installed and configured `kubectl` on the notebook device.\n",
        "2. Then, you can create and upload your manifests directly from the notebook\n",
        "```python\n",
        "manifests = raptor.manifests()\n",
        "!echo \"$manifests\" | kubectl apply -f -\n",
        "```\n",
        "\n",
        ">> **💡 Hint:** We didn't include these blocks as executable since you need to configure your cluster."
      ],
      "metadata": {
        "id": "EOxbdtjbpUS3"
      }
    },
    {
      "cell_type": "markdown",
      "source": [
        "## 🪄 Ta-dam!\n",
        "**From now on**, our cluster will collect and build features in production and record the values for historical purposes (so you'll be able to retrain against the production data).\n",
        "\n",
        "[**🔗 Learn more about what you can do with Raptor at the official docs**](https://raptor.ml)\n"
      ],
      "metadata": {
        "id": "i8UXJLnwo9jC"
      }
    }
  ]
}